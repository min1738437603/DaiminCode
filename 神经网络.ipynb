{
  "nbformat": 4,
  "nbformat_minor": 0,
  "metadata": {
    "colab": {
      "name": "神经网络.ipynb",
      "provenance": [],
      "include_colab_link": true
    },
    "kernelspec": {
      "name": "python3",
      "display_name": "Python 3"
    }
  },
  "cells": [
    {
      "cell_type": "markdown",
      "metadata": {
        "id": "view-in-github",
        "colab_type": "text"
      },
      "source": [
        "<a href=\"https://colab.research.google.com/github/min1738437603/DaiminCode/blob/master/%E7%A5%9E%E7%BB%8F%E7%BD%91%E7%BB%9C.ipynb\" target=\"_parent\"><img src=\"https://colab.research.google.com/assets/colab-badge.svg\" alt=\"Open In Colab\"/></a>"
      ]
    },
    {
      "cell_type": "code",
      "metadata": {
        "id": "ELrc6vHIN0UA",
        "colab_type": "code",
        "colab": {
          "base_uri": "https://localhost:8080/",
          "height": 35
        },
        "outputId": "f4980e09-a10e-438d-ef04-6de9ec7c1f0a"
      },
      "source": [
        "import tensorflow as tf\n",
        "import numpy as np\n",
        "import sklearn.preprocessing as prep\n",
        "from tensorflow.examples.tutorials.mnist import input_data\n",
        "'''\n",
        "前向传播算法\n",
        "'''\n",
        "#tensorflow.Variable ：保存和更新神经网络中的参数。\n",
        "\n",
        "##声明w1、w2两个变量，还通过seed参数设定了随机种子，这样可以保证每次运行得到的结果是一样的\n",
        "w1=tf.Variable(tf.random_normal([2,3],stddev=1,seed=1))\n",
        "w2=tf.Variable(tf.random_normal([3,1],stddev=1,seed=1))\n",
        "\n",
        "##暂时将输入的特征向量定义为一个常量。这里的x是一个1*2的矩阵\n",
        "x=tf.constant([[0.7,0.9]])\n",
        "\n",
        "##前向传播算法获得神经网络的输出\n",
        "a=tf.matmul(x,w1)\n",
        "y=tf.matmul(a,w2)\n",
        "\n",
        "sess=tf.Session()\n",
        "\n",
        "##初始所有变量：init_op=tf.initialize_all_variables()\n",
        "\n",
        "\n",
        "sess.run(w1.initializer)##初始化w1\n",
        "sess.run(w2.initializer)##初始化w2\n",
        "\n",
        "print(sess.run(y))\n",
        "sess.close()\n",
        "\n"
      ],
      "execution_count": 6,
      "outputs": [
        {
          "output_type": "stream",
          "text": [
            "[[3.957578]]\n"
          ],
          "name": "stdout"
        }
      ]
    },
    {
      "cell_type": "code",
      "metadata": {
        "id": "QEB_yY0YVeQg",
        "colab_type": "code",
        "colab": {
          "base_uri": "https://localhost:8080/",
          "height": 197
        },
        "outputId": "0386b877-1837-4868-eeec-af054ba828e5"
      },
      "source": [
        "import tensorflow as tf\n",
        "\n",
        "from numpy.random import RandomState\n",
        "\n",
        "'''\n",
        "训练神经网络的过程\n",
        "(1)定义神经网络的结构和前向传播的输出结果。\n",
        "（2）定义损失函数以及选择反向传播优化的算法\n",
        "（3）生成会话并且在训练数据上反复运行反向传播算法优化算法\n",
        "\n",
        "'''\n",
        "\n",
        "\n",
        "\n",
        "##定义训练数据batch的大小\n",
        "batch_size = 8\n",
        "\n",
        "\n",
        "##声明w1、w2两个变量，还通过seed参数设定了随机种子，这样可以保证每次运行得到的结果是一样的\n",
        "w1=tf.Variable(tf.random_normal([2,3],stddev=1,seed=1))\n",
        "w2=tf.Variable(tf.random_normal([3,1],stddev=1,seed=1))\n",
        "\n",
        "\n",
        "##placeholder作为提供输入数据。在shape的一个维度上使用None可以方便使用不大的batch大小.\n",
        "x=tf.placeholder(tf.float32,shape=(None,2),name='x-input')\n",
        "y_=tf.placeholder(tf.float32,shape=(None,1),name='y-input')\n",
        "\n",
        "##前向传播过程\n",
        "a=tf.matmul(x,w1)\n",
        "y=tf.matmul(a,w2)\n",
        "\n",
        "\n",
        "##定义损失函数来刻画预测值与真实值的差距（此次用的是交叉熵）\n",
        "##反向传播算法来优化神经网络中的参数。\n",
        "cross_entropy =-tf.reduce_mean(y_*tf.log(tf.clip_by_value(y,1e-10,1.0)))\n",
        "train_step=tf.train.AdamOptimizer(0.001).minimize(cross_entropy)\n",
        "\n",
        "##通过随机数生成一个模拟数据集。\n",
        "rdm=RandomState(1)\n",
        "dataset_size=128\n",
        "X=rdm.rand(dataset_size,2)\n",
        "\n",
        "##x1+x2<1都被认为是正样本。\n",
        "Y=[[int(x1+x2<1)] for (x1,x2) in X]\n",
        "\n",
        "\n",
        "\n",
        "with tf.Session() as sess:\n",
        "  init_op = tf.initialize_all_variables()\n",
        "  #初始化变量\n",
        "  sess.run(init_op)\n",
        "  print(sess.run(w1))\n",
        "  print(sess.run(w2))\n",
        "\n",
        "\n",
        "\n",
        "  ##设定训练的论数。\n",
        "  STEPS=5000\n",
        "  for i in range(STEPS):\n",
        "    ##每次选取batch_size个样本进行训练。\n",
        "    start=(i*batch_size)%dataset_size\n",
        "    end=min(start+batch_size,dataset_size)\n",
        "\n",
        "    ##通过选取的样本训练神经网络并更新参数。\n",
        "    sess.run(train_step,feed_dict={x:X[start:end],y_:Y[start:end]})\n",
        "\n",
        "    if i%1000==0:\n",
        "      ##每隔一段时间计算在所有数据上的交叉熵并输出\n",
        "      total_cross_entropy=sess.run(cross_entropy,feed_dict={x:X,y_:Y})\n",
        "      print(\"After %d training step(s),cross entropy on all data is %g\"%(i,total_cross_entropy))"
      ],
      "execution_count": 11,
      "outputs": [
        {
          "output_type": "stream",
          "text": [
            "[[-0.8113182   1.4845988   0.06532937]\n",
            " [-2.4427042   0.0992484   0.5912243 ]]\n",
            "[[-0.8113182 ]\n",
            " [ 1.4845988 ]\n",
            " [ 0.06532937]]\n",
            "After 0 training step(s),cross entropy on all data is 0.0674925\n",
            "After 1000 training step(s),cross entropy on all data is 0.0163385\n",
            "After 2000 training step(s),cross entropy on all data is 0.00907547\n",
            "After 3000 training step(s),cross entropy on all data is 0.00714436\n",
            "After 4000 training step(s),cross entropy on all data is 0.00578471\n"
          ],
          "name": "stdout"
        }
      ]
    },
    {
      "cell_type": "code",
      "metadata": {
        "id": "rJ0V4OWchflS",
        "colab_type": "code",
        "colab": {}
      },
      "source": [
        ""
      ],
      "execution_count": 0,
      "outputs": []
    }
  ]
}